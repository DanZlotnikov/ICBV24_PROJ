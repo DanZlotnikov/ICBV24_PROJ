{
 "cells": [
  {
   "cell_type": "code",
   "execution_count": 12,
   "metadata": {},
   "source": [
    "import numpy as np\n",
    "from numpy.polynomial.polynomial import polyvander2d\n",
    "from numpy.linalg import lstsq\n",
    "import matplotlib.pyplot as plt\n",
    "import cv2"
   ],
   "outputs": []
  },
  {
   "cell_type": "code",
   "execution_count": 13,
   "metadata": {},
   "source": [
    "# Example: Load an image or create synthetic image data\n",
    "# image_data = np.random.rand(100, 100) * 255  # Random grayscale image of size 100x100\n",
    "corrupted_x, corrupted_y, corrupted_width, corrupted_height = 100, 100, 50, 50\n",
    "image = cv2.imread('lenna.png', cv2.IMREAD_GRAYSCALE)  # Example image; replace with your actual image\n",
    "\n",
    "\n",
    "# Define the region to exclude: e.g., a central square from (30, 30) to (70, 70)\n",
    "x, y = np.indices(image.shape)\n",
    "mask = (x < corrupted_x) | (x > corrupted_x + corrupted_width) | (y < corrupted_y) | (y > corrupted_y + corrupted_height)  # True outside the central square\n",
    "\n",
    "# Apply the mask to flatten x, y, and image data\n",
    "x_flat = x[mask]\n",
    "y_flat = y[mask]\n",
    "z_flat = image[mask]\n",
    "\n",
    "# Generate the Vandermonde matrix for a polynomial of degree 2 (can be adjusted)\n",
    "degree_x, degree_y = 50,50 \n",
    "vander2d_matrix = polyvander2d(x_flat, y_flat, [degree_x, degree_y])\n",
    "vander2d_flat = vander2d_matrix.reshape(len(z_flat), -1)\n",
    "\n",
    "# Solve the least squares problem\n",
    "coefficients, residuals, rank, s = lstsq(vander2d_flat, z_flat)\n",
    "\n",
    "# Use coefficients to evaluate the polynomial on the whole grid\n",
    "coeff_matrix = coefficients.reshape((degree_x + 1, degree_y + 1))\n",
    "fitted_values = np.polynomial.polynomial.polyval2d(x, y, coeff_matrix)"
   ],
   "outputs": []
  },
  {
   "cell_type": "code",
   "execution_count": 14,
   "metadata": {},
   "source": [
    "# Create a copy of the original image to modify\n",
    "interpolated_image = np.copy(image)\n",
    "interpolated_image[~mask] = fitted_values[~mask]\n",
    "\n",
    "# Display the original, fitted polynomial, and modified image with interpolated region\n",
    "plt.figure(figsize=(18, 6))\n",
    "plt.subplot(1, 3, 1)\n",
    "plt.imshow(image, cmap='gray')\n",
    "plt.title('Original Image')\n",
    "plt.subplot(1, 3, 2)\n",
    "plt.imshow(fitted_values, cmap='gray')\n",
    "plt.title('Polynomial Fit')\n",
    "plt.subplot(1, 3, 3)\n",
    "plt.imshow(interpolated_image, cmap='gray')\n",
    "plt.title('Interpolated Region in Image')\n",
    "plt.show()"
   ],
   "outputs": []
  }
 ],
 "metadata": {
  "kernelspec": {
   "display_name": "Python 3",
   "language": "python",
   "name": "python3"
  },
  "language_info": {
   "codemirror_mode": {
    "name": "ipython",
    "version": 3
   },
   "file_extension": ".py",
   "mimetype": "text/x-python",
   "name": "python",
   "nbconvert_exporter": "python",
   "pygments_lexer": "ipython3",
   "version": "3.9.13"
  }
 },
 "nbformat": 4,
 "nbformat_minor": 2
}
