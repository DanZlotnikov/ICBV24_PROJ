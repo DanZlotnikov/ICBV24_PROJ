{
 "cells": [
  {
   "cell_type": "code",
   "execution_count": 9,
   "metadata": {},
   "source": [
    "from relaxation_super_res import RelaxationSuperRes\n",
    "import cv2\n",
    "from upscaling_funcs import *\n",
    "import numpy as np\n",
    "from skimage.metrics import mean_squared_error, peak_signal_noise_ratio, structural_similarity"
   ],
   "outputs": []
  },
  {
   "cell_type": "code",
   "execution_count": 10,
   "metadata": {},
   "source": [
    "img = cv2.imread('lenna.png', cv2.IMREAD_GRAYSCALE)\n",
    "img_small = cv2.resize(img, (0, 0), fx=0.125, fy=0.125, interpolation=cv2.INTER_AREA)\n",
    "img_relaxation, base_pixels = relaxation_upscale(img_small,8)"
   ],
   "outputs": []
  },
  {
   "cell_type": "code",
   "execution_count": 11,
   "metadata": {},
   "source": [
    "kernel = np.ones((3,3))\n",
    "kernel = kernel / np.sum(kernel)\n",
    "model_ones_3x3 = RelaxationSuperRes(kernel).fit(img_relaxation, base_pixels, 20)\n",
    "img_relaxation_ones_3x3 = model_ones_3x3.predict(epsilon=0.1)"
   ],
   "outputs": []
  },
  {
   "cell_type": "code",
   "execution_count": 12,
   "metadata": {},
   "source": [
    "kernel = np.array([[0, 1, 0],\n",
    "                       [1, 1, 1],\n",
    "                       [0, 1, 0]])\n",
    "kernel = kernel / np.sum(kernel)\n",
    "\n",
    "model_regular_3x3 = RelaxationSuperRes(kernel).fit(img_relaxation, base_pixels, 20)\n",
    "img_relaxation_regular_3x3 = model_regular_3x3.predict(epsilon=0.1)"
   ],
   "outputs": []
  },
  {
   "cell_type": "code",
   "execution_count": 13,
   "metadata": {},
   "source": [
    "kernel = np.ones((5,5))\n",
    "kernel = kernel / np.sum(kernel)\n",
    "model_ones_5x5 = RelaxationSuperRes(kernel).fit(img_relaxation, base_pixels, 20)\n",
    "img_relaxation_ones_5x5 = model_ones_5x5.predict(epsilon=0.1)"
   ],
   "outputs": []
  },
  {
   "cell_type": "code",
   "execution_count": null,
   "metadata": {},
   "source": [
    "kernel = np.array([[0, 0, 1, 0, 0],\n",
    "                       [0, 1, 1, 1, 0],\n",
    "                       [1, 1, 1, 1, 1],\n",
    "                       [0, 1, 1, 1, 0],\n",
    "                       [0, 0, 1, 0, 0]])\n",
    "kernel = kernel / np.sum(kernel)\n",
    "\n",
    "model_regular_5x5 = RelaxationSuperRes(kernel).fit(img_relaxation, base_pixels, 20)\n",
    "img_relaxation_regular_5x5 = model_regular_5x5.predict(epsilon=0.1)"
   ],
   "outputs": []
  },
  {
   "cell_type": "code",
   "execution_count": null,
   "metadata": {},
   "source": [
    "img_bicubic = cv2.resize(img_small, (0, 0), fx=8, fy=8, interpolation=cv2.INTER_CUBIC)\n",
    "img_nn = cv2.resize(img_small, (0, 0), fx=8, fy=8, interpolation=cv2.INTER_NEAREST)\n",
    "img_bilinear = cv2.resize(img_small, (0, 0), fx=8, fy=8, interpolation=cv2.INTER_LINEAR)\n",
    "img_lanczos = cv2.resize(img_small, (0, 0), fx=8, fy=8, interpolation=cv2.INTER_LANCZOS4)\n",
    "img_area = cv2.resize(img_small, (0, 0), fx=8, fy=8, interpolation=cv2.INTER_AREA)"
   ],
   "outputs": []
  },
  {
   "cell_type": "code",
   "execution_count": null,
   "metadata": {},
   "source": [
    "def mse(imageA, imageB):\n",
    "    return mean_squared_error(imageA, imageB)\n",
    "\n",
    "def mae(imageA, imageB):\n",
    "    return np.mean(np.abs(imageA - imageB))\n",
    "\n",
    "def ssim(imageA, imageB):\n",
    "    return structural_similarity(imageA, imageB, data_range=imageB.max() - imageB.min())\n",
    "\n",
    "def psnr(imageA, imageB):\n",
    "    return peak_signal_noise_ratio(imageA, imageB, data_range=imageB.max() - imageB.min())"
   ],
   "outputs": []
  },
  {
   "cell_type": "code",
   "execution_count": null,
   "metadata": {},
   "source": [
    "metrics = {}\n",
    "images = [img_relaxation_ones_3x3, img_relaxation_ones_5x5, img_relaxation_regular_3x3, img_relaxation_regular_5x5, img_bicubic, img_nn, img_bilinear, img_lanczos, img_area]\n",
    "methods = ['Relaxation Ones 3x3', 'Relaxation Ones 5x5', 'Relaxation Regular 3x3', 'Relaxation Regular 5x5', 'Bicubic', 'Nearest', 'Bilinear', 'Lanczos', 'Area']\n",
    "\n",
    "for method, image in zip(methods, images):\n",
    "    metrics[method] = {\n",
    "        'MSE': mse(img, image),\n",
    "        'MAE': mae(img, image),\n",
    "        'SSIM': ssim(img, image),\n",
    "        'PSNR': psnr(img, image)\n",
    "    }\n",
    "\n",
    "# Print metrics for review\n",
    "for method, scores in metrics.items():\n",
    "    print(f\"{method} Metrics:\")\n",
    "    for score_name, score_value in scores.items():\n",
    "        print(f\"  {score_name}: {score_value:.4f}\")\n",
    "    print(\"\\n\")"
   ],
   "outputs": []
  },
  {
   "cell_type": "code",
   "execution_count": null,
   "metadata": {},
   "source": [
    "import matplotlib.pyplot as plt\n",
    "\n",
    "# Setup plot\n",
    "fig, axes = plt.subplots(nrows=2, ncols=2, figsize=(10, 8))\n",
    "axes = axes.ravel()\n",
    "metrics_names = ['MSE', 'MAE', 'SSIM', 'PSNR']\n",
    "\n",
    "# Plot each metric\n",
    "for i, metric in enumerate(metrics_names):\n",
    "    values = [metrics[method][metric] for method in methods]\n",
    "    axes[i].bar(methods, values, color='skyblue')\n",
    "    axes[i].set_title(metric)\n",
    "    axes[i].set_xticklabels(methods, rotation=45)\n",
    "\n",
    "plt.tight_layout()\n",
    "plt.show()"
   ],
   "outputs": []
  }
 ],
 "metadata": {
  "kernelspec": {
   "display_name": "Python 3",
   "language": "python",
   "name": "python3"
  },
  "language_info": {
   "codemirror_mode": {
    "name": "ipython",
    "version": 3
   },
   "file_extension": ".py",
   "mimetype": "text/x-python",
   "name": "python",
   "nbconvert_exporter": "python",
   "pygments_lexer": "ipython3",
   "version": "3.12.3"
  }
 },
 "nbformat": 4,
 "nbformat_minor": 2
}
