{
 "cells": [
  {
   "cell_type": "code",
   "execution_count": 1,
   "metadata": {},
   "outputs": [
    {
     "name": "stderr",
     "output_type": "stream",
     "text": [
      "c:\\Users\\Alex\\AppData\\Local\\Programs\\Python\\Python312\\Lib\\site-packages\\statsforecast\\core.py:26: TqdmWarning: IProgress not found. Please update jupyter and ipywidgets. See https://ipywidgets.readthedocs.io/en/stable/user_install.html\n",
      "  from tqdm.autonotebook import tqdm\n"
     ]
    },
    {
     "ename": "ModuleNotFoundError",
     "evalue": "No module named 'src'",
     "output_type": "error",
     "traceback": [
      "\u001b[1;31m---------------------------------------------------------------------------\u001b[0m",
      "\u001b[1;31mModuleNotFoundError\u001b[0m                       Traceback (most recent call last)",
      "Cell \u001b[1;32mIn[1], line 4\u001b[0m\n\u001b[0;32m      2\u001b[0m \u001b[38;5;28;01mfrom\u001b[39;00m \u001b[38;5;21;01mfull_fft_2d\u001b[39;00m \u001b[38;5;28;01mimport\u001b[39;00m FullFFT2D\n\u001b[0;32m      3\u001b[0m \u001b[38;5;28;01mfrom\u001b[39;00m \u001b[38;5;21;01maxis_fft_2d\u001b[39;00m \u001b[38;5;28;01mimport\u001b[39;00m AxisFFT2D\n\u001b[1;32m----> 4\u001b[0m \u001b[38;5;28;01mfrom\u001b[39;00m \u001b[38;5;21;01mtile_fft_2d\u001b[39;00m \u001b[38;5;28;01mimport\u001b[39;00m TileFFT2D\n\u001b[0;32m      5\u001b[0m \u001b[38;5;28;01mimport\u001b[39;00m \u001b[38;5;21;01mcv2\u001b[39;00m\n",
      "File \u001b[1;32mg:\\My Drive\\Alex\\Projects\\ICBV24_PROJ\\src\\image_completion\\tile_fft_2d.py:2\u001b[0m\n\u001b[0;32m      1\u001b[0m \u001b[38;5;28;01mimport\u001b[39;00m \u001b[38;5;21;01mnumpy\u001b[39;00m \u001b[38;5;28;01mas\u001b[39;00m \u001b[38;5;21;01mnp\u001b[39;00m\n\u001b[1;32m----> 2\u001b[0m \u001b[38;5;28;01mfrom\u001b[39;00m \u001b[38;5;21;01msrc\u001b[39;00m\u001b[38;5;21;01m.\u001b[39;00m\u001b[38;5;21;01mimage_completion\u001b[39;00m\u001b[38;5;21;01m.\u001b[39;00m\u001b[38;5;21;01mfull_fft_2d\u001b[39;00m \u001b[38;5;28;01mimport\u001b[39;00m FullFFT2D\n\u001b[0;32m      4\u001b[0m \u001b[38;5;28;01mclass\u001b[39;00m \u001b[38;5;21;01mTileFFT2D\u001b[39;00m:\n\u001b[0;32m      5\u001b[0m     \u001b[38;5;28;01mdef\u001b[39;00m \u001b[38;5;21m__init__\u001b[39m(\u001b[38;5;28mself\u001b[39m, nr_freqs_to_keep: \u001b[38;5;28mint\u001b[39m \u001b[38;5;241m=\u001b[39m \u001b[38;5;241m10\u001b[39m):\n",
      "\u001b[1;31mModuleNotFoundError\u001b[0m: No module named 'src'"
     ]
    }
   ],
   "source": [
    "import matplotlib.pyplot as plt\n",
    "from full_fft_2d import FullFFT2D\n",
    "from axis_fft_2d import AxisFFT2D\n",
    "from tile_fft_2d import TileFFT2D\n",
    "import cv2\n",
    "from skimage.metrics import mean_squared_error, peak_signal_noise_ratio, structural_similarity\n",
    "import numpy as np"
   ]
  },
  {
   "cell_type": "code",
   "execution_count": null,
   "metadata": {},
   "outputs": [],
   "source": [
    "img = cv2.imread('lenna.png', cv2.IMREAD_GRAYSCALE)\n",
    "corrupted_x, corrupted_y, width, height = 50, 50, 20, 20"
   ]
  },
  {
   "cell_type": "code",
   "execution_count": null,
   "metadata": {},
   "outputs": [],
   "source": [
    "full_model = FullFFT2D().fit(img)\n",
    "reconstructed_full = full_model.predict(corrupted_x, corrupted_y, width, height)\n",
    "axis_model = AxisFFT2D().fit(img)\n",
    "reconstructed_axis = axis_model.predict(corrupted_x, corrupted_y, width, height)\n",
    "tile_model = TileFFT2D().fit(img)\n",
    "reconstructed_tile = tile_model.predict(corrupted_x, corrupted_y, width, height)"
   ]
  },
  {
   "cell_type": "code",
   "execution_count": null,
   "metadata": {},
   "outputs": [],
   "source": [
    "def mse(imageA, imageB):\n",
    "    return mean_squared_error(imageA, imageB)\n",
    "\n",
    "def mae(imageA, imageB):\n",
    "    return np.mean(np.abs(imageA - imageB))\n",
    "\n",
    "def ssim(imageA, imageB):\n",
    "    return structural_similarity(imageA, imageB, data_range=imageB.max() - imageB.min())\n",
    "\n",
    "def psnr(imageA, imageB):\n",
    "    return peak_signal_noise_ratio(imageA, imageB, data_range=imageB.max() - imageB.min())"
   ]
  },
  {
   "cell_type": "code",
   "execution_count": 2,
   "metadata": {},
   "outputs": [
    {
     "ename": "NameError",
     "evalue": "name 'img' is not defined",
     "output_type": "error",
     "traceback": [
      "\u001b[1;31m---------------------------------------------------------------------------\u001b[0m",
      "\u001b[1;31mNameError\u001b[0m                                 Traceback (most recent call last)",
      "Cell \u001b[1;32mIn[2], line 2\u001b[0m\n\u001b[0;32m      1\u001b[0m metrics \u001b[38;5;241m=\u001b[39m {}\n\u001b[1;32m----> 2\u001b[0m images \u001b[38;5;241m=\u001b[39m [\u001b[43mimg\u001b[49m[corrupted_y:corrupted_y\u001b[38;5;241m+\u001b[39mheight,corrupted_x:corrupted_x\u001b[38;5;241m+\u001b[39mwidth],reconstructed_full,reconstructed_axis,reconstructed_tile]\n\u001b[0;32m      3\u001b[0m methods \u001b[38;5;241m=\u001b[39m [\u001b[38;5;124m'\u001b[39m\u001b[38;5;124mOriginal\u001b[39m\u001b[38;5;124m'\u001b[39m, \u001b[38;5;124m'\u001b[39m\u001b[38;5;124mFull\u001b[39m\u001b[38;5;124m'\u001b[39m,\u001b[38;5;124m'\u001b[39m\u001b[38;5;124mAxis\u001b[39m\u001b[38;5;124m'\u001b[39m, \u001b[38;5;124m'\u001b[39m\u001b[38;5;124mTile\u001b[39m\u001b[38;5;124m'\u001b[39m]\n\u001b[0;32m      5\u001b[0m \u001b[38;5;28;01mfor\u001b[39;00m method, image \u001b[38;5;129;01min\u001b[39;00m \u001b[38;5;28mzip\u001b[39m(methods, images):\n",
      "\u001b[1;31mNameError\u001b[0m: name 'img' is not defined"
     ]
    }
   ],
   "source": [
    "metrics = {}\n",
    "images = [img[corrupted_y:corrupted_y+height,corrupted_x:corrupted_x+width],reconstructed_full,reconstructed_axis,reconstructed_tile]\n",
    "methods = ['Original', 'Full','Axis', 'Tile']\n",
    "\n",
    "for method, image in zip(methods, images):\n",
    "    metrics[method] = {\n",
    "        'MSE': mse(img, image),\n",
    "        'MAE': mae(img, image),\n",
    "        'SSIM': ssim(img, image),\n",
    "        'PSNR': psnr(img, image)\n",
    "    }\n",
    "\n",
    "# Print metrics for review\n",
    "for method, scores in metrics.items():\n",
    "    print(f\"{method} Metrics:\")\n",
    "    for score_name, score_value in scores.items():\n",
    "        print(f\"  {score_name}: {score_value:.4f}\")\n",
    "    print(\"\\n\")"
   ]
  },
  {
   "cell_type": "code",
   "execution_count": null,
   "metadata": {},
   "outputs": [],
   "source": [
    "import matplotlib.pyplot as plt\n",
    "\n",
    "# Setup plot\n",
    "fig, axes = plt.subplots(nrows=2, ncols=2, figsize=(10, 8))\n",
    "axes = axes.ravel()\n",
    "metrics_names = ['MSE', 'MAE', 'SSIM', 'PSNR']\n",
    "\n",
    "# Plot each metric\n",
    "for i, metric in enumerate(metrics_names):\n",
    "    values = [metrics[method][metric] for method in methods]\n",
    "    axes[i].bar(methods, values, color='skyblue')\n",
    "    axes[i].set_title(metric)\n",
    "    axes[i].set_xticklabels(methods, rotation=45)\n",
    "\n",
    "plt.tight_layout()\n",
    "plt.show()"
   ]
  }
 ],
 "metadata": {
  "kernelspec": {
   "display_name": "Python 3",
   "language": "python",
   "name": "python3"
  },
  "language_info": {
   "codemirror_mode": {
    "name": "ipython",
    "version": 3
   },
   "file_extension": ".py",
   "mimetype": "text/x-python",
   "name": "python",
   "nbconvert_exporter": "python",
   "pygments_lexer": "ipython3",
   "version": "3.12.3"
  }
 },
 "nbformat": 4,
 "nbformat_minor": 2
}
